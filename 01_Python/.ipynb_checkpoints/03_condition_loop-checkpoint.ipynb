{
 "cells": [
  {
   "cell_type": "markdown",
   "metadata": {},
   "source": [
    "### summary\n",
    "- jupyter notebook\n",
    "    - mode: 명령모드, 편집모드\n",
    "    - style: markdown, code\n",
    "    - 단축키\n",
    "        - 실행: shift + enter\n",
    "        - 자동완성: tab\n",
    "        - docstring 보기: shift + tab\n",
    "        - 주석설정: cmd(ctrl) + /\n",
    "        - 셀 생성: a, b\n",
    "\n",
    "- python 기본 문법\n",
    "    - 변수 선언: RAM 저장공간에 값을 할당하는 행위\n",
    "    - 식별자 규칙\n",
    "        - 대문자, 소문자, 숫자, _\n",
    "        - 가장 앞글자 숫자사용 불가\n",
    "        - 예약어 사용 불가: def, class, try\n",
    "        - snake_case(변수, 함수), CamelCase(클래스)\n",
    "        - pep8문서\n",
    "    - 데이터 타입\n",
    "        - 동적타이핑: 자동으로 저장공간의 데이터타입이 설정\n",
    "        - 기본 데이터 타입: int, float, bool, str\n",
    "        - 컬렉션 데이터 타입: lis(iterable), tuple(iterable), dict\n",
    "        - offset index: 특정 위치의 데이터를 출력할 때 사용\n",
    "            - iterable 데이터 타입에서만 사용이 가능\n",
    "            - []: mask, masking\n",
    "            - [idx]: idx 위치 데이터를 출력\n",
    "            - [start:end]: start에서 end까지 출력(end는 포함되지 않음)\n",
    "            - [start:end:stride]: stride만큼씩 점프하여 출력\n",
    "        - 각 데이터 타입별로 함수가 있음\n",
    "    - 형변환\n",
    "        - 이미 변수에 설정된 데이터 타입을 변경하는 행위\n",
    "        - zip\n",
    "            - 여러개의 리스트를 같은 인덱스끼리 묶어주는 함수\n",
    "            - 두개의 리스트를 묶어서 dict 형변환\n",
    "    - 연산자\n",
    "        - 산술: +, -, *, /, %, //, **\n",
    "        - 할당: A (산술)= (data)\n",
    "        - 비교: <, >, <=, >=, !=, ==\n",
    "        - 논리: and, or, not\n",
    "        - 멤버: in, not in"
   ]
  },
  {
   "cell_type": "code",
   "execution_count": null,
   "metadata": {},
   "outputs": [],
   "source": [
    "\n"
   ]
  }
 ],
 "metadata": {
  "kernelspec": {
   "display_name": "Python 3",
   "language": "python",
   "name": "python3"
  },
  "language_info": {
   "codemirror_mode": {
    "name": "ipython",
    "version": 3
   },
   "file_extension": ".py",
   "mimetype": "text/x-python",
   "name": "python",
   "nbconvert_exporter": "python",
   "pygments_lexer": "ipython3",
   "version": "3.6.10"
  }
 },
 "nbformat": 4,
 "nbformat_minor": 4
}
