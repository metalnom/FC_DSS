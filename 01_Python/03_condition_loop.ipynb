{
 "cells": [
  {
   "cell_type": "markdown",
   "metadata": {},
   "source": [
    "### summary\n",
    "- jupyter notebook\n",
    "    - mode: 명령모드, 편집모드\n",
    "    - style: markdown, code\n",
    "    - 단축키\n",
    "        - 실행: shift + enter\n",
    "        - 자동완성: tab\n",
    "        - docstring 보기: shift + tab\n",
    "        - 주석설정: cmd(ctrl) + /\n",
    "        - 셀 생성: a, b\n",
    "\n",
    "- python 기본 문법\n",
    "    - 변수 선언: RAM 저장공간에 값을 할당하는 행위\n",
    "    - 식별자 규칙\n",
    "        - 대문자, 소문자, 숫자, _\n",
    "        - 가장 앞글자 숫자사용 불가\n",
    "        - 예약어 사용 불가: def, class, try\n",
    "        - snake_case(변수, 함수), CamelCase(클래스)\n",
    "        - pep8문서\n",
    "    - 데이터 타입\n",
    "        - 동적타이핑: 자동으로 저장공간의 데이터타입이 설정\n",
    "        - 기본 데이터 타입: int, float, bool, str\n",
    "        - 컬렉션 데이터 타입: lis(iterable), tuple(iterable), dict\n",
    "        - offset index: 특정 위치의 데이터를 출력할 때 사용\n",
    "            - iterable 데이터 타입에서만 사용이 가능\n",
    "            - []: mask, masking\n",
    "            - [idx]: idx 위치 데이터를 출력\n",
    "            - [start:end]: start에서 end까지 출력(end는 포함되지 않음)\n",
    "            - [start:end:stride]: stride만큼씩 점프하여 출력\n",
    "        - 각 데이터 타입별로 함수가 있음\n",
    "    - 형변환\n",
    "        - 이미 변수에 설정된 데이터 타입을 변경하는 행위\n",
    "        - zip\n",
    "            - 여러개의 리스트를 같은 인덱스끼리 묶어주는 함수\n",
    "            - 두개의 리스트를 묶어서 dict 형변환\n",
    "    - 연산자\n",
    "        - 산술: +, -, *, /, %, //, **\n",
    "        - 할당: A (산술)= (data)\n",
    "        - 비교: <, >, <=, >=, !=, ==\n",
    "        - 논리: and, or, not\n",
    "        - 멤버: in, not in"
   ]
  },
  {
   "cell_type": "markdown",
   "metadata": {},
   "source": [
    "### 1. 조건문\n",
    "- 특정 조건에 따라서 코드를 실행하고자 할 때 사용\n",
    "- if, else, elif"
   ]
  },
  {
   "cell_type": "code",
   "execution_count": 1,
   "metadata": {},
   "outputs": [
    {
     "name": "stdout",
     "output_type": "stream",
     "text": [
      "python\n",
      "done\n"
     ]
    }
   ],
   "source": [
    "if True:\n",
    "    print(\"python\")\n",
    "    \n",
    "print(\"done\")"
   ]
  },
  {
   "cell_type": "code",
   "execution_count": 3,
   "metadata": {},
   "outputs": [
    {
     "name": "stdout",
     "output_type": "stream",
     "text": [
      "python\n"
     ]
    }
   ],
   "source": [
    "# int : 0을 제외한 나머지 값은 True\n",
    "num = 2\n",
    "if num:\n",
    "    print(\"python\")"
   ]
  },
  {
   "cell_type": "code",
   "execution_count": 4,
   "metadata": {},
   "outputs": [
    {
     "name": "stdout",
     "output_type": "stream",
     "text": [
      "홀수\n"
     ]
    }
   ],
   "source": [
    "number = 7\n",
    "if number % 2:\n",
    "    print(\"홀수\")"
   ]
  },
  {
   "cell_type": "code",
   "execution_count": 5,
   "metadata": {},
   "outputs": [],
   "source": [
    "# float : 0.0을 제외한 나머지 실수는 True\n",
    "# str : \"\"을 제외한 나머지 무자열은 True\n",
    "# list, tuple, dict: [], (), {}를 제외한 나머지는 True"
   ]
  },
  {
   "cell_type": "code",
   "execution_count": 8,
   "metadata": {},
   "outputs": [
    {
     "name": "stdout",
     "output_type": "stream",
     "text": [
      "버스를 타고 집에 갑니다.\n"
     ]
    }
   ],
   "source": [
    "# 지갑에 돈이 1만원이상 있으면 택시를 타고\n",
    "# 2000원 이상 1만원 미만이 있으면 버스를 타고\n",
    "# 그렇지 않으면 걸어서 집에 갑니다.\n",
    "money = 9000\n",
    "if money >= 10000:\n",
    "    print(\"택시를 타고 집에 갑니다.\")\n",
    "elif money >= 2000:\n",
    "    print(\"버스를 타고 집에 갑니다.\")\n",
    "else:\n",
    "    print(\"집에 걸어갑니다.\")"
   ]
  },
  {
   "cell_type": "code",
   "execution_count": 9,
   "metadata": {},
   "outputs": [],
   "source": [
    "# 계좌에 10000원이 있습니다.\n",
    "# 인출 금액을 입력합니다.\n",
    "# 인출 금액이 계좌에 있는 금액보다 크면 \"인출이 불가능합니다.\" 출력\n",
    "# 인출 금액이 계좌에 있는 금액보다 작으면 \"인출되었습니다.\" 출력\n",
    "# 마지막에 현재 계좌의 잔액을 출력"
   ]
  },
  {
   "cell_type": "code",
   "execution_count": 13,
   "metadata": {},
   "outputs": [
    {
     "name": "stdout",
     "output_type": "stream",
     "text": [
      "인출 금액을 입력하세요: 3000\n",
      "인출되었습니다.\n",
      "잔액:  7000\n"
     ]
    }
   ],
   "source": [
    "account = 10000\n",
    "\n",
    "money = int(input(\"인출 금액을 입력하세요: \"))\n",
    "\n",
    "if money > account:\n",
    "    print(\"인출이 불가능합니다.\")\n",
    "else:\n",
    "    account -= money\n",
    "    print(\"인출되었습니다.\")\n",
    "    print(\"잔액: \", account)\n",
    "\n"
   ]
  },
  {
   "cell_type": "code",
   "execution_count": 15,
   "metadata": {},
   "outputs": [
    {
     "name": "stdout",
     "output_type": "stream",
     "text": [
      "현재 잔액은 7000원 입니다. 인출금액은 3000원 입니다.\n",
      "현재 잔액은 7000원 입니다. 인출금액은 3000원 입니다.\n"
     ]
    }
   ],
   "source": [
    "# string 데이터 타입의 format 함수\n",
    "print(\"현재 잔액은 {}원 입니다. 인출금액은 {}원 입니다.\".format(account, money))\n",
    "print(\"현재 잔액은 {data2}원 입니다. 인출금액은 {data1}원 입니다.\".format(data1=money, data2=account))"
   ]
  },
  {
   "cell_type": "code",
   "execution_count": null,
   "metadata": {},
   "outputs": [],
   "source": []
  }
 ],
 "metadata": {
  "kernelspec": {
   "display_name": "Python 3",
   "language": "python",
   "name": "python3"
  },
  "language_info": {
   "codemirror_mode": {
    "name": "ipython",
    "version": 3
   },
   "file_extension": ".py",
   "mimetype": "text/x-python",
   "name": "python",
   "nbconvert_exporter": "python",
   "pygments_lexer": "ipython3",
   "version": "3.6.10"
  }
 },
 "nbformat": 4,
 "nbformat_minor": 4
}
